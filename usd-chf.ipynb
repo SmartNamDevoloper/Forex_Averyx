{
 "cells": [
  {
   "cell_type": "code",
   "execution_count": null,
   "id": "animated-ethnic",
   "metadata": {
    "id": "eY75BEHGZqDa",
    "papermill": {
     "duration": 0.044772,
     "end_time": "2021-06-29T06:33:10.273395",
     "exception": false,
     "start_time": "2021-06-29T06:33:10.228623",
     "status": "completed"
    },
    "tags": []
   },
   "outputs": [],
   "source": []
  },
  {
   "cell_type": "markdown",
   "id": "crucial-elimination",
   "metadata": {
    "id": "kCFUyXjEIwim",
    "papermill": {
     "duration": 0.045022,
     "end_time": "2021-06-29T06:33:10.364176",
     "exception": false,
     "start_time": "2021-06-29T06:33:10.319154",
     "status": "completed"
    },
    "tags": []
   },
   "source": [
    "# **Helpful Links**\n",
    "\n",
    "\n",
    "https://github.com/AminHP/gym-anytrading"
   ]
  },
  {
   "cell_type": "code",
   "execution_count": 1,
   "id": "lovely-charlotte",
   "metadata": {
    "execution": {
     "iopub.execute_input": "2021-06-29T06:33:10.456983Z",
     "iopub.status.busy": "2021-06-29T06:33:10.455822Z",
     "iopub.status.idle": "2021-06-29T06:33:10.459407Z",
     "shell.execute_reply": "2021-06-29T06:33:10.459880Z",
     "shell.execute_reply.started": "2021-06-29T05:14:53.651562Z"
    },
    "executionInfo": {
     "elapsed": 198465,
     "status": "ok",
     "timestamp": 1624614271568,
     "user": {
      "displayName": "Namitha Murugesh",
      "photoUrl": "https://lh3.googleusercontent.com/a-/AOh14GjRFU8rEFJ9HwBzQOkq4VvL88RIVlyudSPXxibGLw=s64",
      "userId": "05391255199822218826"
     },
     "user_tz": -330
    },
    "id": "__lJfBFMFuo4",
    "outputId": "6f605aa8-aefc-4844-f6cb-556f7ffdd569",
    "papermill": {
     "duration": 0.051234,
     "end_time": "2021-06-29T06:33:10.460167",
     "exception": false,
     "start_time": "2021-06-29T06:33:10.408933",
     "status": "completed"
    },
    "tags": []
   },
   "outputs": [],
   "source": [
    "#  !pip install tensorflow-gpu==1.15.0 tensorflow==1.15.0 stable-baselines3 gym-anytrading gym"
   ]
  },
  {
   "cell_type": "code",
   "execution_count": 2,
   "id": "convenient-myanmar",
   "metadata": {
    "execution": {
     "iopub.execute_input": "2021-06-29T06:33:10.547352Z",
     "iopub.status.busy": "2021-06-29T06:33:10.546662Z",
     "iopub.status.idle": "2021-06-29T06:33:10.870755Z",
     "shell.execute_reply": "2021-06-29T06:33:10.869231Z",
     "shell.execute_reply.started": "2021-06-29T05:14:53.671106Z"
    },
    "executionInfo": {
     "elapsed": 1024,
     "status": "ok",
     "timestamp": 1624614507652,
     "user": {
      "displayName": "Namitha Murugesh",
      "photoUrl": "https://lh3.googleusercontent.com/a-/AOh14GjRFU8rEFJ9HwBzQOkq4VvL88RIVlyudSPXxibGLw=s64",
      "userId": "05391255199822218826"
     },
     "user_tz": -330
    },
    "id": "EA9OdyoQFmRQ",
    "papermill": {
     "duration": 0.36894,
     "end_time": "2021-06-29T06:33:10.871096",
     "exception": true,
     "start_time": "2021-06-29T06:33:10.502156",
     "status": "failed"
    },
    "tags": []
   },
   "outputs": [
    {
     "ename": "ModuleNotFoundError",
     "evalue": "No module named 'gym_anytrading'",
     "output_type": "error",
     "traceback": [
      "\u001b[0;31m---------------------------------------------------------------------------\u001b[0m",
      "\u001b[0;31mModuleNotFoundError\u001b[0m                       Traceback (most recent call last)",
      "\u001b[0;32m<ipython-input-2-8b196c5c0c57>\u001b[0m in \u001b[0;36m<module>\u001b[0;34m\u001b[0m\n\u001b[1;32m      4\u001b[0m \u001b[0;32mimport\u001b[0m \u001b[0mnumpy\u001b[0m \u001b[0;32mas\u001b[0m \u001b[0mnp\u001b[0m\u001b[0;34m\u001b[0m\u001b[0;34m\u001b[0m\u001b[0m\n\u001b[1;32m      5\u001b[0m \u001b[0;32mimport\u001b[0m \u001b[0mgym\u001b[0m\u001b[0;34m\u001b[0m\u001b[0;34m\u001b[0m\u001b[0m\n\u001b[0;32m----> 6\u001b[0;31m \u001b[0;32mimport\u001b[0m \u001b[0mgym_anytrading\u001b[0m\u001b[0;34m\u001b[0m\u001b[0;34m\u001b[0m\u001b[0m\n\u001b[0m\u001b[1;32m      7\u001b[0m \u001b[0;32mfrom\u001b[0m \u001b[0mgym_anytrading\u001b[0m\u001b[0;34m.\u001b[0m\u001b[0menvs\u001b[0m \u001b[0;32mimport\u001b[0m \u001b[0mTradingEnv\u001b[0m\u001b[0;34m,\u001b[0m \u001b[0mForexEnv\u001b[0m\u001b[0;34m,\u001b[0m \u001b[0mStocksEnv\u001b[0m\u001b[0;34m,\u001b[0m \u001b[0mActions\u001b[0m\u001b[0;34m,\u001b[0m \u001b[0mPositions\u001b[0m\u001b[0;34m\u001b[0m\u001b[0;34m\u001b[0m\u001b[0m\n\u001b[1;32m      8\u001b[0m \u001b[0;32mimport\u001b[0m \u001b[0mmatplotlib\u001b[0m\u001b[0;34m.\u001b[0m\u001b[0mpyplot\u001b[0m \u001b[0;32mas\u001b[0m \u001b[0mplt\u001b[0m\u001b[0;34m\u001b[0m\u001b[0;34m\u001b[0m\u001b[0m\n",
      "\u001b[0;31mModuleNotFoundError\u001b[0m: No module named 'gym_anytrading'"
     ]
    }
   ],
   "source": [
    "# Helpful Links\n",
    "# https://github.com/AminHP/gym-anytrading\n",
    "import pandas as pd\n",
    "import numpy as np\n",
    "import gym\n",
    "import gym_anytrading\n",
    "from gym_anytrading.envs import TradingEnv, ForexEnv, StocksEnv, Actions, Positions \n",
    "import matplotlib.pyplot as plt\n"
   ]
  },
  {
   "cell_type": "code",
   "execution_count": null,
   "id": "forward-cassette",
   "metadata": {
    "execution": {
     "iopub.execute_input": "2021-06-29T05:14:53.706657Z",
     "iopub.status.busy": "2021-06-29T05:14:53.706275Z",
     "iopub.status.idle": "2021-06-29T05:14:53.711578Z",
     "shell.execute_reply": "2021-06-29T05:14:53.710300Z",
     "shell.execute_reply.started": "2021-06-29T05:14:53.706627Z"
    },
    "id": "nKiL0AKYbIPh",
    "papermill": {
     "duration": null,
     "end_time": null,
     "exception": null,
     "start_time": null,
     "status": "pending"
    },
    "tags": []
   },
   "outputs": [],
   "source": [
    "\n",
    "# env = gym.make('forex-v0', frame_bound=(50, 100), window_size=10)\n",
    "\n",
    "# observation = env.reset()\n",
    "# while True:\n",
    "#     action = env.action_space.sample()\n",
    "#     observation, reward, done, info = env.step(action)\n",
    "#     # env.render()\n",
    "#     if done:\n",
    "#         print(\"info:\", info)\n",
    "#         break\n",
    "\n",
    "# plt.cla()\n",
    "# env.render_all()\n",
    "# plt.show()"
   ]
  },
  {
   "cell_type": "markdown",
   "id": "complex-picnic",
   "metadata": {
    "papermill": {
     "duration": null,
     "end_time": null,
     "exception": null,
     "start_time": null,
     "status": "pending"
    },
    "tags": []
   },
   "source": [
    "### DataPreparation"
   ]
  },
  {
   "cell_type": "code",
   "execution_count": null,
   "id": "fatal-amsterdam",
   "metadata": {
    "execution": {
     "iopub.execute_input": "2021-06-29T05:14:53.760735Z",
     "iopub.status.busy": "2021-06-29T05:14:53.760183Z",
     "iopub.status.idle": "2021-06-29T05:14:53.793080Z",
     "shell.execute_reply": "2021-06-29T05:14:53.792003Z",
     "shell.execute_reply.started": "2021-06-29T05:14:53.760686Z"
    },
    "executionInfo": {
     "elapsed": 444,
     "status": "ok",
     "timestamp": 1624614682416,
     "user": {
      "displayName": "Namitha Murugesh",
      "photoUrl": "https://lh3.googleusercontent.com/a-/AOh14GjRFU8rEFJ9HwBzQOkq4VvL88RIVlyudSPXxibGLw=s64",
      "userId": "05391255199822218826"
     },
     "user_tz": -330
    },
    "id": "-KYRwioIb-V3",
    "outputId": "98fbdb44-0de1-4b64-e159-28dee03aeaae",
    "papermill": {
     "duration": null,
     "end_time": null,
     "exception": null,
     "start_time": null,
     "status": "pending"
    },
    "tags": []
   },
   "outputs": [],
   "source": [
    "USDCHF1440_df = pd.read_csv(\"../input/usdchf-1day/USDCHF1440.csv\",sep='\\t',header=None)\n",
    "\n",
    "USDCHF1440_df.sample(10)"
   ]
  },
  {
   "cell_type": "code",
   "execution_count": null,
   "id": "waiting-clear",
   "metadata": {
    "execution": {
     "iopub.execute_input": "2021-06-29T05:14:53.800566Z",
     "iopub.status.busy": "2021-06-29T05:14:53.800052Z",
     "iopub.status.idle": "2021-06-29T05:14:53.815309Z",
     "shell.execute_reply": "2021-06-29T05:14:53.814504Z",
     "shell.execute_reply.started": "2021-06-29T05:14:53.800517Z"
    },
    "executionInfo": {
     "elapsed": 378,
     "status": "ok",
     "timestamp": 1624614722746,
     "user": {
      "displayName": "Namitha Murugesh",
      "photoUrl": "https://lh3.googleusercontent.com/a-/AOh14GjRFU8rEFJ9HwBzQOkq4VvL88RIVlyudSPXxibGLw=s64",
      "userId": "05391255199822218826"
     },
     "user_tz": -330
    },
    "id": "JhALlR1ncDAQ",
    "outputId": "bfb19436-e37c-476f-e43d-be1b77d15587",
    "papermill": {
     "duration": null,
     "end_time": null,
     "exception": null,
     "start_time": null,
     "status": "pending"
    },
    "tags": []
   },
   "outputs": [],
   "source": [
    "USDCHF1440_df.columns=[\"Date\",\"Open\",\"High\",\"Low\",\"Close\",\"Volume\"]\n",
    "USDCHF1440_df.head()"
   ]
  },
  {
   "cell_type": "code",
   "execution_count": null,
   "id": "found-aside",
   "metadata": {
    "execution": {
     "iopub.execute_input": "2021-06-29T05:14:53.817528Z",
     "iopub.status.busy": "2021-06-29T05:14:53.816917Z",
     "iopub.status.idle": "2021-06-29T05:14:53.841975Z",
     "shell.execute_reply": "2021-06-29T05:14:53.841111Z",
     "shell.execute_reply.started": "2021-06-29T05:14:53.817485Z"
    },
    "papermill": {
     "duration": null,
     "end_time": null,
     "exception": null,
     "start_time": null,
     "status": "pending"
    },
    "tags": []
   },
   "outputs": [],
   "source": [
    "USDCHF1440_df.tail()"
   ]
  },
  {
   "cell_type": "code",
   "execution_count": null,
   "id": "nervous-chicken",
   "metadata": {
    "execution": {
     "iopub.execute_input": "2021-06-29T05:14:53.844213Z",
     "iopub.status.busy": "2021-06-29T05:14:53.843774Z",
     "iopub.status.idle": "2021-06-29T05:14:53.858354Z",
     "shell.execute_reply": "2021-06-29T05:14:53.857524Z",
     "shell.execute_reply.started": "2021-06-29T05:14:53.844168Z"
    },
    "executionInfo": {
     "elapsed": 396,
     "status": "ok",
     "timestamp": 1624614728865,
     "user": {
      "displayName": "Namitha Murugesh",
      "photoUrl": "https://lh3.googleusercontent.com/a-/AOh14GjRFU8rEFJ9HwBzQOkq4VvL88RIVlyudSPXxibGLw=s64",
      "userId": "05391255199822218826"
     },
     "user_tz": -330
    },
    "id": "mjj4ER3EeK3k",
    "outputId": "c805e4a4-4a6e-45f7-f242-846968ddceb3",
    "papermill": {
     "duration": null,
     "end_time": null,
     "exception": null,
     "start_time": null,
     "status": "pending"
    },
    "tags": []
   },
   "outputs": [],
   "source": [
    "USDCHF1440_df.info()"
   ]
  },
  {
   "cell_type": "code",
   "execution_count": null,
   "id": "front-management",
   "metadata": {
    "execution": {
     "iopub.execute_input": "2021-06-29T05:14:53.860282Z",
     "iopub.status.busy": "2021-06-29T05:14:53.859847Z",
     "iopub.status.idle": "2021-06-29T05:14:53.868000Z",
     "shell.execute_reply": "2021-06-29T05:14:53.867222Z",
     "shell.execute_reply.started": "2021-06-29T05:14:53.860243Z"
    },
    "executionInfo": {
     "elapsed": 399,
     "status": "ok",
     "timestamp": 1624614740333,
     "user": {
      "displayName": "Namitha Murugesh",
      "photoUrl": "https://lh3.googleusercontent.com/a-/AOh14GjRFU8rEFJ9HwBzQOkq4VvL88RIVlyudSPXxibGLw=s64",
      "userId": "05391255199822218826"
     },
     "user_tz": -330
    },
    "id": "KfP2RjAYdXIQ",
    "outputId": "0be7a1a6-c2a3-4a1b-d191-37b3c82b587f",
    "papermill": {
     "duration": null,
     "end_time": null,
     "exception": null,
     "start_time": null,
     "status": "pending"
    },
    "tags": []
   },
   "outputs": [],
   "source": [
    "#Taking only first 10000 rows to reduce time\n",
    "# USDCHF1440_df = USDCHF1440_df[:10000]\n",
    "# USDCHF1440_df.head()"
   ]
  },
  {
   "cell_type": "code",
   "execution_count": null,
   "id": "realistic-suggestion",
   "metadata": {
    "execution": {
     "iopub.execute_input": "2021-06-29T05:14:53.870331Z",
     "iopub.status.busy": "2021-06-29T05:14:53.869855Z",
     "iopub.status.idle": "2021-06-29T05:14:53.890867Z",
     "shell.execute_reply": "2021-06-29T05:14:53.889748Z",
     "shell.execute_reply.started": "2021-06-29T05:14:53.870280Z"
    },
    "executionInfo": {
     "elapsed": 405,
     "status": "ok",
     "timestamp": 1624614755497,
     "user": {
      "displayName": "Namitha Murugesh",
      "photoUrl": "https://lh3.googleusercontent.com/a-/AOh14GjRFU8rEFJ9HwBzQOkq4VvL88RIVlyudSPXxibGLw=s64",
      "userId": "05391255199822218826"
     },
     "user_tz": -330
    },
    "id": "l2MW3tmgcg4r",
    "outputId": "716c5d65-b195-4467-f38a-6ea2e8c02f51",
    "papermill": {
     "duration": null,
     "end_time": null,
     "exception": null,
     "start_time": null,
     "status": "pending"
    },
    "tags": []
   },
   "outputs": [],
   "source": [
    "USDCHF1440_df.Date = pd.to_datetime(USDCHF1440_df.Date)\n",
    "USDCHF1440_df.Date.head()\n",
    "\n"
   ]
  },
  {
   "cell_type": "code",
   "execution_count": null,
   "id": "cleared-julian",
   "metadata": {
    "execution": {
     "iopub.execute_input": "2021-06-29T05:14:53.923211Z",
     "iopub.status.busy": "2021-06-29T05:14:53.922832Z",
     "iopub.status.idle": "2021-06-29T05:14:53.961252Z",
     "shell.execute_reply": "2021-06-29T05:14:53.959661Z",
     "shell.execute_reply.started": "2021-06-29T05:14:53.923179Z"
    },
    "executionInfo": {
     "elapsed": 445,
     "status": "ok",
     "timestamp": 1624614761312,
     "user": {
      "displayName": "Namitha Murugesh",
      "photoUrl": "https://lh3.googleusercontent.com/a-/AOh14GjRFU8rEFJ9HwBzQOkq4VvL88RIVlyudSPXxibGLw=s64",
      "userId": "05391255199822218826"
     },
     "user_tz": -330
    },
    "id": "2zFPmPiGfP0l",
    "outputId": "894b6c77-8fdc-42b1-f96e-6cb3f1ddc9a6",
    "papermill": {
     "duration": null,
     "end_time": null,
     "exception": null,
     "start_time": null,
     "status": "pending"
    },
    "tags": []
   },
   "outputs": [],
   "source": [
    "USDCHF1440_df.describe(include=\"all\")"
   ]
  },
  {
   "cell_type": "code",
   "execution_count": null,
   "id": "golden-spotlight",
   "metadata": {
    "execution": {
     "iopub.execute_input": "2021-06-29T05:14:53.964531Z",
     "iopub.status.busy": "2021-06-29T05:14:53.964097Z",
     "iopub.status.idle": "2021-06-29T05:14:53.971057Z",
     "shell.execute_reply": "2021-06-29T05:14:53.969558Z",
     "shell.execute_reply.started": "2021-06-29T05:14:53.964488Z"
    },
    "executionInfo": {
     "elapsed": 362,
     "status": "ok",
     "timestamp": 1624614766469,
     "user": {
      "displayName": "Namitha Murugesh",
      "photoUrl": "https://lh3.googleusercontent.com/a-/AOh14GjRFU8rEFJ9HwBzQOkq4VvL88RIVlyudSPXxibGLw=s64",
      "userId": "05391255199822218826"
     },
     "user_tz": -330
    },
    "id": "OUj3_eXfdkqc",
    "papermill": {
     "duration": null,
     "end_time": null,
     "exception": null,
     "start_time": null,
     "status": "pending"
    },
    "tags": []
   },
   "outputs": [],
   "source": [
    "USDCHF1440_df.set_index(\"Date\",inplace=True)\n"
   ]
  },
  {
   "cell_type": "code",
   "execution_count": null,
   "id": "organized-elite",
   "metadata": {
    "execution": {
     "iopub.execute_input": "2021-06-29T05:14:53.972789Z",
     "iopub.status.busy": "2021-06-29T05:14:53.972449Z",
     "iopub.status.idle": "2021-06-29T05:14:53.998061Z",
     "shell.execute_reply": "2021-06-29T05:14:53.996497Z",
     "shell.execute_reply.started": "2021-06-29T05:14:53.972760Z"
    },
    "executionInfo": {
     "elapsed": 396,
     "status": "ok",
     "timestamp": 1624614770191,
     "user": {
      "displayName": "Namitha Murugesh",
      "photoUrl": "https://lh3.googleusercontent.com/a-/AOh14GjRFU8rEFJ9HwBzQOkq4VvL88RIVlyudSPXxibGLw=s64",
      "userId": "05391255199822218826"
     },
     "user_tz": -330
    },
    "id": "2QJnIkNseBRQ",
    "outputId": "595658d5-e9e1-4e99-949c-e9a74e581f02",
    "papermill": {
     "duration": null,
     "end_time": null,
     "exception": null,
     "start_time": null,
     "status": "pending"
    },
    "tags": []
   },
   "outputs": [],
   "source": [
    "USDCHF1440_df.head()"
   ]
  },
  {
   "cell_type": "markdown",
   "id": "entire-birmingham",
   "metadata": {
    "id": "h6-EtQLeHpBe",
    "papermill": {
     "duration": null,
     "end_time": null,
     "exception": null,
     "start_time": null,
     "status": "pending"
    },
    "tags": []
   },
   "source": [
    "## Custom Environment\n",
    "Using different window size and the whole data set"
   ]
  },
  {
   "cell_type": "markdown",
   "id": "seven-movement",
   "metadata": {
    "papermill": {
     "duration": null,
     "end_time": null,
     "exception": null,
     "start_time": null,
     "status": "pending"
    },
    "tags": []
   },
   "source": [
    "# Considering only prices"
   ]
  },
  {
   "cell_type": "code",
   "execution_count": null,
   "id": "fitting-slope",
   "metadata": {
    "execution": {
     "iopub.execute_input": "2021-06-29T05:34:28.687172Z",
     "iopub.status.busy": "2021-06-29T05:34:28.686689Z",
     "iopub.status.idle": "2021-06-29T05:34:28.989892Z",
     "shell.execute_reply": "2021-06-29T05:34:28.988693Z",
     "shell.execute_reply.started": "2021-06-29T05:34:28.687135Z"
    },
    "executionInfo": {
     "elapsed": 1394,
     "status": "ok",
     "timestamp": 1624614786058,
     "user": {
      "displayName": "Namitha Murugesh",
      "photoUrl": "https://lh3.googleusercontent.com/a-/AOh14GjRFU8rEFJ9HwBzQOkq4VvL88RIVlyudSPXxibGLw=s64",
      "userId": "05391255199822218826"
     },
     "user_tz": -330
    },
    "id": "h8WRAdsDFnrQ",
    "outputId": "5e80ce6b-b612-48fc-d611-a97644dc6213",
    "papermill": {
     "duration": null,
     "end_time": null,
     "exception": null,
     "start_time": null,
     "status": "pending"
    },
    "tags": []
   },
   "outputs": [],
   "source": [
    "\n",
    "def my_process_data(env):\n",
    "    start = env.frame_bound[0] - env.window_size\n",
    "    end = env.frame_bound[1]\n",
    "    prices = env.df.loc[:, 'Close'].to_numpy()[start:end]\n",
    "    signal_features = env.df.loc[:, ['Close', 'Open', 'High', 'Low']].to_numpy()[start:end]\n",
    "    return prices, signal_features\n",
    "\n",
    "\n",
    "class MyForexEnv(ForexEnv):\n",
    "    _process_data = my_process_data\n",
    "\n",
    "\n",
    "env = MyForexEnv(df=USDCHF1440_df, window_size=12, frame_bound=(12, len(USDCHF1440_df)))\n",
    "observation = env.reset()\n",
    "while True:\n",
    "    action = env.action_space.sample()\n",
    "    observation, reward, done, info = env.step(action)\n",
    "#     env.render()\n",
    "    if done:\n",
    "        print(\"info:\", info)\n",
    "        break\n",
    "plt.figure(figsize = (15,4))\n",
    "plt.cla()\n",
    "env.render_all()\n",
    "plt.show()"
   ]
  },
  {
   "cell_type": "code",
   "execution_count": null,
   "id": "concerned-george",
   "metadata": {
    "execution": {
     "iopub.execute_input": "2021-06-29T05:26:11.449838Z",
     "iopub.status.busy": "2021-06-29T05:26:11.449441Z",
     "iopub.status.idle": "2021-06-29T05:26:11.466551Z",
     "shell.execute_reply": "2021-06-29T05:26:11.465757Z",
     "shell.execute_reply.started": "2021-06-29T05:26:11.449805Z"
    },
    "papermill": {
     "duration": null,
     "end_time": null,
     "exception": null,
     "start_time": null,
     "status": "pending"
    },
    "tags": []
   },
   "outputs": [],
   "source": [
    "#Sell=0 Buy=1 from tradeenv.py\n",
    "trades_df = pd.DataFrame(env.history)\n",
    "trades_df.head()"
   ]
  },
  {
   "cell_type": "code",
   "execution_count": null,
   "id": "enabling-devon",
   "metadata": {
    "execution": {
     "iopub.execute_input": "2021-06-29T05:34:36.795805Z",
     "iopub.status.busy": "2021-06-29T05:34:36.795377Z",
     "iopub.status.idle": "2021-06-29T05:34:37.256660Z",
     "shell.execute_reply": "2021-06-29T05:34:37.255579Z",
     "shell.execute_reply.started": "2021-06-29T05:34:36.795772Z"
    },
    "papermill": {
     "duration": null,
     "end_time": null,
     "exception": null,
     "start_time": null,
     "status": "pending"
    },
    "tags": []
   },
   "outputs": [],
   "source": [
    "import seaborn as sns\n",
    "plt.figure(figsize=(15,4))\n",
    "sns.lineplot(data=trades_df,x=trades_df.index,y=\"total_reward\")\n",
    "plt.axhline(y=0,color='r')\n",
    "plt.title(\"Total reward at every step\",fontsize=14)"
   ]
  },
  {
   "cell_type": "code",
   "execution_count": null,
   "id": "global-coach",
   "metadata": {
    "execution": {
     "iopub.execute_input": "2021-06-29T05:34:59.682372Z",
     "iopub.status.busy": "2021-06-29T05:34:59.681812Z",
     "iopub.status.idle": "2021-06-29T05:35:00.100657Z",
     "shell.execute_reply": "2021-06-29T05:35:00.099386Z",
     "shell.execute_reply.started": "2021-06-29T05:34:59.682322Z"
    },
    "papermill": {
     "duration": null,
     "end_time": null,
     "exception": null,
     "start_time": null,
     "status": "pending"
    },
    "tags": []
   },
   "outputs": [],
   "source": [
    "plt.figure(figsize=(15,4))\n",
    "sns.lineplot(data=trades_df,x=trades_df.index,y=\"total_profit\")\n",
    "plt.title(\"Total profit at every step\",fontsize=14)"
   ]
  },
  {
   "cell_type": "code",
   "execution_count": null,
   "id": "muslim-corps",
   "metadata": {
    "papermill": {
     "duration": null,
     "end_time": null,
     "exception": null,
     "start_time": null,
     "status": "pending"
    },
    "tags": []
   },
   "outputs": [],
   "source": [
    "trades_df.position.value_counts()"
   ]
  },
  {
   "cell_type": "code",
   "execution_count": null,
   "id": "metropolitan-breast",
   "metadata": {
    "execution": {
     "iopub.execute_input": "2021-06-29T05:39:28.331555Z",
     "iopub.status.busy": "2021-06-29T05:39:28.331186Z",
     "iopub.status.idle": "2021-06-29T05:39:28.574523Z",
     "shell.execute_reply": "2021-06-29T05:39:28.573113Z",
     "shell.execute_reply.started": "2021-06-29T05:39:28.331525Z"
    },
    "papermill": {
     "duration": null,
     "end_time": null,
     "exception": null,
     "start_time": null,
     "status": "pending"
    },
    "tags": []
   },
   "outputs": [],
   "source": [
    "plt.figure(figsize=(15,4))\n",
    "sns.scatterplot(data=trades_df[:50],x=trades_df[:50].index,hue=\"position\",y=\"position\")\n",
    "plt.grid('both')\n",
    "plt.title(\"Psoition of buys and sells for first 100 trades\",fontsize=14)"
   ]
  },
  {
   "cell_type": "markdown",
   "id": "eleven-guatemala",
   "metadata": {
    "id": "e7QdNBpthE9W",
    "papermill": {
     "duration": null,
     "end_time": null,
     "exception": null,
     "start_time": null,
     "status": "pending"
    },
    "tags": []
   },
   "source": [
    "## Add Custom Indicators"
   ]
  },
  {
   "cell_type": "markdown",
   "id": "civilian-equivalent",
   "metadata": {
    "id": "ijA4moJLhJ-x",
    "papermill": {
     "duration": null,
     "end_time": null,
     "exception": null,
     "start_time": null,
     "status": "pending"
    },
    "tags": []
   },
   "source": [
    "Install and Import New Dependencies\n",
    "https://github.com/peerchemist/finta"
   ]
  },
  {
   "cell_type": "code",
   "execution_count": null,
   "id": "convertible-exhibit",
   "metadata": {
    "execution": {
     "iopub.execute_input": "2021-06-29T04:49:56.012507Z",
     "iopub.status.busy": "2021-06-29T04:49:56.012160Z",
     "iopub.status.idle": "2021-06-29T04:49:56.016523Z",
     "shell.execute_reply": "2021-06-29T04:49:56.015333Z",
     "shell.execute_reply.started": "2021-06-29T04:49:56.012476Z"
    },
    "executionInfo": {
     "elapsed": 4819,
     "status": "ok",
     "timestamp": 1624614812379,
     "user": {
      "displayName": "Namitha Murugesh",
      "photoUrl": "https://lh3.googleusercontent.com/a-/AOh14GjRFU8rEFJ9HwBzQOkq4VvL88RIVlyudSPXxibGLw=s64",
      "userId": "05391255199822218826"
     },
     "user_tz": -330
    },
    "id": "7IjD9wxVhYmM",
    "outputId": "8d7ec2c6-922e-4db9-a89b-7443eeda8aef",
    "papermill": {
     "duration": null,
     "end_time": null,
     "exception": null,
     "start_time": null,
     "status": "pending"
    },
    "tags": []
   },
   "outputs": [],
   "source": [
    "# !pip install finta"
   ]
  },
  {
   "cell_type": "markdown",
   "id": "genuine-arrival",
   "metadata": {
    "id": "_eh2zG_8hhTE",
    "papermill": {
     "duration": null,
     "end_time": null,
     "exception": null,
     "start_time": null,
     "status": "pending"
    },
    "tags": []
   },
   "source": [
    "## Calculate SMA, MACD RSI and OBV"
   ]
  },
  {
   "cell_type": "code",
   "execution_count": null,
   "id": "angry-loading",
   "metadata": {
    "execution": {
     "iopub.execute_input": "2021-06-29T06:20:43.516782Z",
     "iopub.status.busy": "2021-06-29T06:20:43.516379Z",
     "iopub.status.idle": "2021-06-29T06:20:43.521916Z",
     "shell.execute_reply": "2021-06-29T06:20:43.520387Z",
     "shell.execute_reply.started": "2021-06-29T06:20:43.516751Z"
    },
    "executionInfo": {
     "elapsed": 392,
     "status": "ok",
     "timestamp": 1624614826357,
     "user": {
      "displayName": "Namitha Murugesh",
      "photoUrl": "https://lh3.googleusercontent.com/a-/AOh14GjRFU8rEFJ9HwBzQOkq4VvL88RIVlyudSPXxibGLw=s64",
      "userId": "05391255199822218826"
     },
     "user_tz": -330
    },
    "id": "ioll2fMRhF5a",
    "papermill": {
     "duration": null,
     "end_time": null,
     "exception": null,
     "start_time": null,
     "status": "pending"
    },
    "tags": []
   },
   "outputs": [],
   "source": [
    "from finta import TA"
   ]
  },
  {
   "cell_type": "code",
   "execution_count": null,
   "id": "comparative-discount",
   "metadata": {
    "execution": {
     "iopub.execute_input": "2021-06-29T06:20:43.569610Z",
     "iopub.status.busy": "2021-06-29T06:20:43.569199Z",
     "iopub.status.idle": "2021-06-29T06:20:43.599160Z",
     "shell.execute_reply": "2021-06-29T06:20:43.598233Z",
     "shell.execute_reply.started": "2021-06-29T06:20:43.569573Z"
    },
    "executionInfo": {
     "elapsed": 495,
     "status": "ok",
     "timestamp": 1624614911501,
     "user": {
      "displayName": "Namitha Murugesh",
      "photoUrl": "https://lh3.googleusercontent.com/a-/AOh14GjRFU8rEFJ9HwBzQOkq4VvL88RIVlyudSPXxibGLw=s64",
      "userId": "05391255199822218826"
     },
     "user_tz": -330
    },
    "id": "v8KEIIwJhfAl",
    "papermill": {
     "duration": null,
     "end_time": null,
     "exception": null,
     "start_time": null,
     "status": "pending"
    },
    "tags": []
   },
   "outputs": [],
   "source": [
    "USDCHF1440_df['SMA'] = TA.SMA(USDCHF1440_df, 10)\n",
    "USDCHF1440_df['RSI'] = TA.RSI(USDCHF1440_df)\n",
    "USDCHF1440_df['OBV'] = TA.OBV(USDCHF1440_df)\n",
    "MACD_df = TA.MACD(USDCHF1440_df)\n",
    "USDCHF1440_df['MACD'] = MACD_df[\"MACD\"]\n",
    "USDCHF1440_df['SIGNAL'] = MACD_df[\"SIGNAL\"]\n",
    "USDCHF1440_df.fillna(0, inplace=True)"
   ]
  },
  {
   "cell_type": "code",
   "execution_count": null,
   "id": "crazy-accident",
   "metadata": {
    "execution": {
     "iopub.execute_input": "2021-06-29T06:20:43.628569Z",
     "iopub.status.busy": "2021-06-29T06:20:43.628192Z",
     "iopub.status.idle": "2021-06-29T06:20:43.649494Z",
     "shell.execute_reply": "2021-06-29T06:20:43.648282Z",
     "shell.execute_reply.started": "2021-06-29T06:20:43.628535Z"
    },
    "executionInfo": {
     "elapsed": 17,
     "status": "ok",
     "timestamp": 1624614914003,
     "user": {
      "displayName": "Namitha Murugesh",
      "photoUrl": "https://lh3.googleusercontent.com/a-/AOh14GjRFU8rEFJ9HwBzQOkq4VvL88RIVlyudSPXxibGLw=s64",
      "userId": "05391255199822218826"
     },
     "user_tz": -330
    },
    "id": "mXYSm_LahsVc",
    "outputId": "68a3c6e6-33ff-4ad6-e48a-60474dadf0a6",
    "papermill": {
     "duration": null,
     "end_time": null,
     "exception": null,
     "start_time": null,
     "status": "pending"
    },
    "tags": []
   },
   "outputs": [],
   "source": [
    "USDCHF1440_df.head()"
   ]
  },
  {
   "cell_type": "markdown",
   "id": "southern-dollar",
   "metadata": {
    "id": "UscWZ8CXh5Iz",
    "papermill": {
     "duration": null,
     "end_time": null,
     "exception": null,
     "start_time": null,
     "status": "pending"
    },
    "tags": []
   },
   "source": [
    "## Create New Environments"
   ]
  },
  {
   "cell_type": "code",
   "execution_count": null,
   "id": "least-morning",
   "metadata": {
    "execution": {
     "iopub.execute_input": "2021-06-29T06:20:43.652061Z",
     "iopub.status.busy": "2021-06-29T06:20:43.651733Z",
     "iopub.status.idle": "2021-06-29T06:20:43.665811Z",
     "shell.execute_reply": "2021-06-29T06:20:43.664064Z",
     "shell.execute_reply.started": "2021-06-29T06:20:43.652030Z"
    },
    "executionInfo": {
     "elapsed": 363,
     "status": "ok",
     "timestamp": 1624614940180,
     "user": {
      "displayName": "Namitha Murugesh",
      "photoUrl": "https://lh3.googleusercontent.com/a-/AOh14GjRFU8rEFJ9HwBzQOkq4VvL88RIVlyudSPXxibGLw=s64",
      "userId": "05391255199822218826"
     },
     "user_tz": -330
    },
    "id": "vHnZcm8Fh2Jh",
    "papermill": {
     "duration": null,
     "end_time": null,
     "exception": null,
     "start_time": null,
     "status": "pending"
    },
    "tags": []
   },
   "outputs": [],
   "source": [
    "def add_signals(env):\n",
    "    start = env.frame_bound[0] - env.window_size\n",
    "    end = env.frame_bound[1]\n",
    "    prices = env.df.loc[:, 'Low'].to_numpy()[start:end]\n",
    "    signal_features = env.df.loc[:, ['SMA', 'RSI', 'OBV' ,'MACD', 'SIGNAL']].to_numpy()[start:end]\n",
    "    return prices, signal_features"
   ]
  },
  {
   "cell_type": "code",
   "execution_count": null,
   "id": "alternative-channels",
   "metadata": {
    "execution": {
     "iopub.execute_input": "2021-06-29T06:20:43.669133Z",
     "iopub.status.busy": "2021-06-29T06:20:43.668791Z",
     "iopub.status.idle": "2021-06-29T06:20:43.682231Z",
     "shell.execute_reply": "2021-06-29T06:20:43.680688Z",
     "shell.execute_reply.started": "2021-06-29T06:20:43.669100Z"
    },
    "executionInfo": {
     "elapsed": 359,
     "status": "ok",
     "timestamp": 1624614951933,
     "user": {
      "displayName": "Namitha Murugesh",
      "photoUrl": "https://lh3.googleusercontent.com/a-/AOh14GjRFU8rEFJ9HwBzQOkq4VvL88RIVlyudSPXxibGLw=s64",
      "userId": "05391255199822218826"
     },
     "user_tz": -330
    },
    "id": "xLuUuWSlh_Oe",
    "papermill": {
     "duration": null,
     "end_time": null,
     "exception": null,
     "start_time": null,
     "status": "pending"
    },
    "tags": []
   },
   "outputs": [],
   "source": [
    "class MyCustomEnv(ForexEnv):\n",
    "    _process_data = add_signals\n",
    "    \n",
    "env2 = MyCustomEnv(df=USDCHF1440_df, window_size=10, frame_bound=(10,len(USDCHF1440_df)-1000))"
   ]
  },
  {
   "cell_type": "code",
   "execution_count": null,
   "id": "greenhouse-intent",
   "metadata": {
    "execution": {
     "iopub.execute_input": "2021-06-29T06:20:43.727822Z",
     "iopub.status.busy": "2021-06-29T06:20:43.727402Z",
     "iopub.status.idle": "2021-06-29T06:20:43.733743Z",
     "shell.execute_reply": "2021-06-29T06:20:43.732397Z",
     "shell.execute_reply.started": "2021-06-29T06:20:43.727781Z"
    },
    "papermill": {
     "duration": null,
     "end_time": null,
     "exception": null,
     "start_time": null,
     "status": "pending"
    },
    "tags": []
   },
   "outputs": [],
   "source": [
    "#Showng how many action spaces are there\n",
    "env2.action_space"
   ]
  },
  {
   "cell_type": "code",
   "execution_count": null,
   "id": "confused-friend",
   "metadata": {
    "execution": {
     "iopub.execute_input": "2021-06-29T06:20:43.743708Z",
     "iopub.status.busy": "2021-06-29T06:20:43.743278Z",
     "iopub.status.idle": "2021-06-29T06:20:43.750466Z",
     "shell.execute_reply": "2021-06-29T06:20:43.749043Z",
     "shell.execute_reply.started": "2021-06-29T06:20:43.743674Z"
    },
    "papermill": {
     "duration": null,
     "end_time": null,
     "exception": null,
     "start_time": null,
     "status": "pending"
    },
    "tags": []
   },
   "outputs": [],
   "source": [
    "#The observation space is a tensor of size (10,5 with low value limit of -inf and high val limit of inf)\n",
    "env2.observation_space"
   ]
  },
  {
   "cell_type": "code",
   "execution_count": null,
   "id": "checked-indonesia",
   "metadata": {
    "execution": {
     "iopub.execute_input": "2021-06-29T06:20:43.762449Z",
     "iopub.status.busy": "2021-06-29T06:20:43.761878Z",
     "iopub.status.idle": "2021-06-29T06:20:43.771227Z",
     "shell.execute_reply": "2021-06-29T06:20:43.770111Z",
     "shell.execute_reply.started": "2021-06-29T06:20:43.762414Z"
    },
    "papermill": {
     "duration": null,
     "end_time": null,
     "exception": null,
     "start_time": null,
     "status": "pending"
    },
    "tags": []
   },
   "outputs": [],
   "source": [
    "#Example observation space this is what the forex robot sees before taking the action\n",
    "env2.observation_space.sample()"
   ]
  },
  {
   "cell_type": "code",
   "execution_count": null,
   "id": "understanding-lender",
   "metadata": {
    "execution": {
     "iopub.execute_input": "2021-06-29T06:20:43.780556Z",
     "iopub.status.busy": "2021-06-29T06:20:43.780212Z",
     "iopub.status.idle": "2021-06-29T06:20:43.788336Z",
     "shell.execute_reply": "2021-06-29T06:20:43.786864Z",
     "shell.execute_reply.started": "2021-06-29T06:20:43.780527Z"
    },
    "executionInfo": {
     "elapsed": 382,
     "status": "ok",
     "timestamp": 1624614965180,
     "user": {
      "displayName": "Namitha Murugesh",
      "photoUrl": "https://lh3.googleusercontent.com/a-/AOh14GjRFU8rEFJ9HwBzQOkq4VvL88RIVlyudSPXxibGLw=s64",
      "userId": "05391255199822218826"
     },
     "user_tz": -330
    },
    "id": "IS7kn8pSiT-Y",
    "outputId": "cabf72a3-0925-4411-be72-be8ac33fd0d6",
    "papermill": {
     "duration": null,
     "end_time": null,
     "exception": null,
     "start_time": null,
     "status": "pending"
    },
    "tags": []
   },
   "outputs": [],
   "source": [
    "#The output of signal_features matches the data_frame.head()\n",
    "env2.signal_features"
   ]
  },
  {
   "cell_type": "code",
   "execution_count": null,
   "id": "other-regression",
   "metadata": {
    "execution": {
     "iopub.execute_input": "2021-06-29T06:20:43.822598Z",
     "iopub.status.busy": "2021-06-29T06:20:43.822249Z",
     "iopub.status.idle": "2021-06-29T06:20:43.841515Z",
     "shell.execute_reply": "2021-06-29T06:20:43.840666Z",
     "shell.execute_reply.started": "2021-06-29T06:20:43.822569Z"
    },
    "id": "wp6tkZcViXbE",
    "papermill": {
     "duration": null,
     "end_time": null,
     "exception": null,
     "start_time": null,
     "status": "pending"
    },
    "tags": []
   },
   "outputs": [],
   "source": [
    "USDCHF1440_df.head()"
   ]
  },
  {
   "cell_type": "markdown",
   "id": "prescribed-finder",
   "metadata": {
    "id": "iZkfc9HMim0Q",
    "papermill": {
     "duration": null,
     "end_time": null,
     "exception": null,
     "start_time": null,
     "status": "pending"
    },
    "tags": []
   },
   "source": [
    "## Build Environment and Train"
   ]
  },
  {
   "cell_type": "code",
   "execution_count": null,
   "id": "combined-admission",
   "metadata": {
    "execution": {
     "iopub.execute_input": "2021-06-29T06:20:43.881327Z",
     "iopub.status.busy": "2021-06-29T06:20:43.880913Z",
     "iopub.status.idle": "2021-06-29T06:20:43.886961Z",
     "shell.execute_reply": "2021-06-29T06:20:43.885791Z",
     "shell.execute_reply.started": "2021-06-29T06:20:43.881295Z"
    },
    "executionInfo": {
     "elapsed": 4023,
     "status": "ok",
     "timestamp": 1624614982906,
     "user": {
      "displayName": "Namitha Murugesh",
      "photoUrl": "https://lh3.googleusercontent.com/a-/AOh14GjRFU8rEFJ9HwBzQOkq4VvL88RIVlyudSPXxibGLw=s64",
      "userId": "05391255199822218826"
     },
     "user_tz": -330
    },
    "id": "CYMQAPuDinnh",
    "outputId": "2717b856-ac1b-4490-a70a-4998b4c99d36",
    "papermill": {
     "duration": null,
     "end_time": null,
     "exception": null,
     "start_time": null,
     "status": "pending"
    },
    "tags": []
   },
   "outputs": [],
   "source": [
    "# Stable baselines - rl stuff\n",
    "# from stable_baselines3.common.vec_env import DummyVecEnv\n",
    "from stable_baselines.common.vec_env import DummyVecEnv\n",
    "\n",
    "env_maker = lambda: env2\n",
    "env = DummyVecEnv([env_maker])"
   ]
  },
  {
   "cell_type": "code",
   "execution_count": null,
   "id": "terminal-wilson",
   "metadata": {
    "_kg_hide-output": true,
    "execution": {
     "iopub.execute_input": "2021-06-29T06:20:43.895066Z",
     "iopub.status.busy": "2021-06-29T06:20:43.894469Z",
     "iopub.status.idle": "2021-06-29T06:25:22.393559Z",
     "shell.execute_reply": "2021-06-29T06:25:22.392649Z",
     "shell.execute_reply.started": "2021-06-29T06:20:43.895027Z"
    },
    "executionInfo": {
     "elapsed": 80518,
     "status": "error",
     "timestamp": 1624615396004,
     "user": {
      "displayName": "Namitha Murugesh",
      "photoUrl": "https://lh3.googleusercontent.com/a-/AOh14GjRFU8rEFJ9HwBzQOkq4VvL88RIVlyudSPXxibGLw=s64",
      "userId": "05391255199822218826"
     },
     "user_tz": -330
    },
    "id": "ad5J6LwviqnN",
    "outputId": "2bb0adee-0380-46b0-f9ca-d9130e474b44",
    "papermill": {
     "duration": null,
     "end_time": null,
     "exception": null,
     "start_time": null,
     "status": "pending"
    },
    "tags": []
   },
   "outputs": [],
   "source": [
    "#Stock standard Algorithm can be found at https://stable-baselines.readthedocs.io/en/master/guide/algos.html\n",
    "from stable_baselines import A2C\n",
    "model = A2C('MlpLstmPolicy', env, verbose=1) #MlpLstmPolicy is available only in stable_baselines not in 3\n",
    "# from stable_baselines3 import A2C\n",
    "# model = A2C('MlpPolicy', env, verbose=1) \n",
    "model.learn(total_timesteps=100000)"
   ]
  },
  {
   "cell_type": "code",
   "execution_count": null,
   "id": "fitted-inspector",
   "metadata": {
    "id": "kdrDuuQKjO9J",
    "papermill": {
     "duration": null,
     "end_time": null,
     "exception": null,
     "start_time": null,
     "status": "pending"
    },
    "tags": []
   },
   "outputs": [],
   "source": []
  },
  {
   "cell_type": "markdown",
   "id": "metropolitan-moment",
   "metadata": {
    "id": "Jju1N86JkSd0",
    "papermill": {
     "duration": null,
     "end_time": null,
     "exception": null,
     "start_time": null,
     "status": "pending"
    },
    "tags": []
   },
   "source": [
    "## Evaluation"
   ]
  },
  {
   "cell_type": "code",
   "execution_count": null,
   "id": "above-generation",
   "metadata": {
    "execution": {
     "iopub.execute_input": "2021-06-29T06:25:22.395947Z",
     "iopub.status.busy": "2021-06-29T06:25:22.395609Z",
     "iopub.status.idle": "2021-06-29T06:25:23.599294Z",
     "shell.execute_reply": "2021-06-29T06:25:23.598461Z",
     "shell.execute_reply.started": "2021-06-29T06:25:22.395914Z"
    },
    "id": "_lKpDZtYkUug",
    "papermill": {
     "duration": null,
     "end_time": null,
     "exception": null,
     "start_time": null,
     "status": "pending"
    },
    "tags": []
   },
   "outputs": [],
   "source": [
    "env = MyCustomEnv(df=USDCHF1440_df, window_size=10, frame_bound=(len(USDCHF1440_df)-1000,len(USDCHF1440_df)))\n",
    "obs = env.reset()\n",
    "while True: \n",
    "    obs = obs[np.newaxis, ...]\n",
    "    action, _states = model.predict(obs)\n",
    "    obs, rewards, done, info = env.step(action)\n",
    "    if done:\n",
    "        print(\"info\", info)\n",
    "        break"
   ]
  },
  {
   "cell_type": "code",
   "execution_count": null,
   "id": "empty-teach",
   "metadata": {
    "execution": {
     "iopub.execute_input": "2021-06-29T06:25:23.600906Z",
     "iopub.status.busy": "2021-06-29T06:25:23.600482Z",
     "iopub.status.idle": "2021-06-29T06:25:23.605939Z",
     "shell.execute_reply": "2021-06-29T06:25:23.605171Z",
     "shell.execute_reply.started": "2021-06-29T06:25:23.600877Z"
    },
    "papermill": {
     "duration": null,
     "end_time": null,
     "exception": null,
     "start_time": null,
     "status": "pending"
    },
    "tags": []
   },
   "outputs": [],
   "source": [
    "env.history.keys()"
   ]
  },
  {
   "cell_type": "code",
   "execution_count": null,
   "id": "creative-september",
   "metadata": {
    "execution": {
     "iopub.execute_input": "2021-06-29T06:25:23.607530Z",
     "iopub.status.busy": "2021-06-29T06:25:23.607094Z",
     "iopub.status.idle": "2021-06-29T06:25:23.635998Z",
     "shell.execute_reply": "2021-06-29T06:25:23.635112Z",
     "shell.execute_reply.started": "2021-06-29T06:25:23.607488Z"
    },
    "papermill": {
     "duration": null,
     "end_time": null,
     "exception": null,
     "start_time": null,
     "status": "pending"
    },
    "tags": []
   },
   "outputs": [],
   "source": [
    "trade_history = pd.DataFrame(env.history)\n",
    "trade_history"
   ]
  },
  {
   "cell_type": "code",
   "execution_count": null,
   "id": "prerequisite-murray",
   "metadata": {
    "execution": {
     "iopub.execute_input": "2021-06-29T06:25:23.638898Z",
     "iopub.status.busy": "2021-06-29T06:25:23.638385Z",
     "iopub.status.idle": "2021-06-29T06:25:23.655354Z",
     "shell.execute_reply": "2021-06-29T06:25:23.653998Z",
     "shell.execute_reply.started": "2021-06-29T06:25:23.638842Z"
    },
    "papermill": {
     "duration": null,
     "end_time": null,
     "exception": null,
     "start_time": null,
     "status": "pending"
    },
    "tags": []
   },
   "outputs": [],
   "source": [
    "trade_history.position.value_counts()"
   ]
  },
  {
   "cell_type": "code",
   "execution_count": null,
   "id": "analyzed-sport",
   "metadata": {
    "execution": {
     "iopub.execute_input": "2021-06-29T06:25:23.658183Z",
     "iopub.status.busy": "2021-06-29T06:25:23.657663Z",
     "iopub.status.idle": "2021-06-29T06:25:23.881919Z",
     "shell.execute_reply": "2021-06-29T06:25:23.880592Z",
     "shell.execute_reply.started": "2021-06-29T06:25:23.658135Z"
    },
    "executionInfo": {
     "elapsed": 1757,
     "status": "ok",
     "timestamp": 1623940051968,
     "user": {
      "displayName": "Namitha Murugesh",
      "photoUrl": "https://lh3.googleusercontent.com/a-/AOh14GjRFU8rEFJ9HwBzQOkq4VvL88RIVlyudSPXxibGLw=s64",
      "userId": "05391255199822218826"
     },
     "user_tz": -330
    },
    "id": "K-LXsXP4k2_a",
    "outputId": "eb0534e0-198f-432d-c316-45b301a57ea1",
    "papermill": {
     "duration": null,
     "end_time": null,
     "exception": null,
     "start_time": null,
     "status": "pending"
    },
    "tags": []
   },
   "outputs": [],
   "source": [
    "plt.figure(figsize=(15,6))\n",
    "plt.cla()\n",
    "env.render_all()\n",
    "plt.show()"
   ]
  },
  {
   "cell_type": "code",
   "execution_count": null,
   "id": "appreciated-edinburgh",
   "metadata": {
    "papermill": {
     "duration": null,
     "end_time": null,
     "exception": null,
     "start_time": null,
     "status": "pending"
    },
    "tags": []
   },
   "outputs": [],
   "source": []
  },
  {
   "cell_type": "code",
   "execution_count": null,
   "id": "higher-norwegian",
   "metadata": {
    "execution": {
     "iopub.execute_input": "2021-06-29T06:25:23.884231Z",
     "iopub.status.busy": "2021-06-29T06:25:23.883790Z",
     "iopub.status.idle": "2021-06-29T06:25:24.163427Z",
     "shell.execute_reply": "2021-06-29T06:25:24.162236Z",
     "shell.execute_reply.started": "2021-06-29T06:25:23.884186Z"
    },
    "papermill": {
     "duration": null,
     "end_time": null,
     "exception": null,
     "start_time": null,
     "status": "pending"
    },
    "tags": []
   },
   "outputs": [],
   "source": [
    "import seaborn as sns\n",
    "plt.figure(figsize=(15,4))\n",
    "sns.lineplot(data=trade_history,x=trade_history.index,y=\"total_reward\")\n",
    "plt.axhline(y=0,color='r')\n",
    "plt.title(\"Total reward at every step\",fontsize=14)"
   ]
  },
  {
   "cell_type": "code",
   "execution_count": null,
   "id": "involved-walker",
   "metadata": {
    "execution": {
     "iopub.execute_input": "2021-06-29T06:25:24.166526Z",
     "iopub.status.busy": "2021-06-29T06:25:24.166003Z",
     "iopub.status.idle": "2021-06-29T06:25:24.450332Z",
     "shell.execute_reply": "2021-06-29T06:25:24.448490Z",
     "shell.execute_reply.started": "2021-06-29T06:25:24.166476Z"
    },
    "papermill": {
     "duration": null,
     "end_time": null,
     "exception": null,
     "start_time": null,
     "status": "pending"
    },
    "tags": []
   },
   "outputs": [],
   "source": [
    "plt.figure(figsize=(15,4))\n",
    "sns.lineplot(data=trade_history,x=trade_history.index,y=\"total_profit\")\n",
    "plt.axhline(y=1,color='r')\n",
    "plt.title(\"Total profit at every step\",fontsize=14)"
   ]
  },
  {
   "cell_type": "code",
   "execution_count": null,
   "id": "noble-efficiency",
   "metadata": {
    "execution": {
     "iopub.execute_input": "2021-06-29T06:29:56.739763Z",
     "iopub.status.busy": "2021-06-29T06:29:56.739281Z",
     "iopub.status.idle": "2021-06-29T06:29:57.039317Z",
     "shell.execute_reply": "2021-06-29T06:29:57.038042Z",
     "shell.execute_reply.started": "2021-06-29T06:29:56.739724Z"
    },
    "papermill": {
     "duration": null,
     "end_time": null,
     "exception": null,
     "start_time": null,
     "status": "pending"
    },
    "tags": []
   },
   "outputs": [],
   "source": [
    "trade_history[\"cum_profit\"] = np.cumsum(trade_history.total_profit)\n",
    "plt.figure(figsize=(15,4))\n",
    "sns.lineplot(data=trade_history,x=trade_history.index,y=\"cum_profit\")\n",
    "plt.title(\"Total cummulative profit at every step\",fontsize=14)"
   ]
  },
  {
   "cell_type": "code",
   "execution_count": null,
   "id": "certain-array",
   "metadata": {
    "execution": {
     "iopub.execute_input": "2021-06-29T06:30:47.892919Z",
     "iopub.status.busy": "2021-06-29T06:30:47.892484Z",
     "iopub.status.idle": "2021-06-29T06:30:48.151884Z",
     "shell.execute_reply": "2021-06-29T06:30:48.150363Z",
     "shell.execute_reply.started": "2021-06-29T06:30:47.892885Z"
    },
    "papermill": {
     "duration": null,
     "end_time": null,
     "exception": null,
     "start_time": null,
     "status": "pending"
    },
    "tags": []
   },
   "outputs": [],
   "source": [
    "#Short is 0 Long is 1\n",
    "plt.figure(figsize=(15,4))\n",
    "sns.scatterplot(data=trade_history[:50],x=trade_history[:50].index,hue=\"position\",y=\"position\")\n",
    "plt.grid('both')\n",
    "\n",
    "plt.title(\"Psoition of long and short positions for first 50 trades\",fontsize=14)"
   ]
  },
  {
   "cell_type": "code",
   "execution_count": null,
   "id": "early-laugh",
   "metadata": {
    "papermill": {
     "duration": null,
     "end_time": null,
     "exception": null,
     "start_time": null,
     "status": "pending"
    },
    "tags": []
   },
   "outputs": [],
   "source": []
  },
  {
   "cell_type": "code",
   "execution_count": null,
   "id": "official-laugh",
   "metadata": {
    "id": "EHPVYiJKUGWY",
    "papermill": {
     "duration": null,
     "end_time": null,
     "exception": null,
     "start_time": null,
     "status": "pending"
    },
    "tags": []
   },
   "outputs": [],
   "source": []
  }
 ],
 "metadata": {
  "kernelspec": {
   "display_name": "Python 3",
   "language": "python",
   "name": "python3"
  },
  "language_info": {
   "codemirror_mode": {
    "name": "ipython",
    "version": 3
   },
   "file_extension": ".py",
   "mimetype": "text/x-python",
   "name": "python",
   "nbconvert_exporter": "python",
   "pygments_lexer": "ipython3",
   "version": "3.7.9"
  },
  "papermill": {
   "default_parameters": {},
   "duration": 7.566884,
   "end_time": "2021-06-29T06:33:11.581101",
   "environment_variables": {},
   "exception": true,
   "input_path": "__notebook__.ipynb",
   "output_path": "__notebook__.ipynb",
   "parameters": {},
   "start_time": "2021-06-29T06:33:04.014217",
   "version": "2.3.2"
  }
 },
 "nbformat": 4,
 "nbformat_minor": 5
}
